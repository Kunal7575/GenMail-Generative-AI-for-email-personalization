{
 "cells": [
  {
   "cell_type": "code",
   "execution_count": 1,
   "id": "d2dafa54-d11a-4713-ad8c-3ea63707f3ee",
   "metadata": {},
   "outputs": [],
   "source": [
    "from langchain_groq import ChatGroq\n",
    "from secret_key import groq_api_key"
   ]
  },
  {
   "cell_type": "code",
   "execution_count": 3,
   "id": "efc7fdb3-d60f-4999-bb4b-2d363c304d26",
   "metadata": {},
   "outputs": [
    {
     "name": "stdout",
     "output_type": "stream",
     "text": [
      "The price of the Mercedes-Benz GLC 300 Coupe in Canada can vary depending on the trim level, options, and features. Here are the current prices for the GLC 300 Coupe in Canada, in CAD:\n",
      "\n",
      "**Starting Price:**\n",
      "\n",
      "* GLC 300 Coupe: around $63,400 CAD (before taxes and fees)\n",
      "\n",
      "**Trim Levels and Prices:**\n",
      "\n",
      "* GLC 300 Coupe 4MATIC: $63,400 CAD\n",
      "* GLC 300 Coupe 4MATIC AMG Line: $68,400 CAD\n",
      "* GLC 300 Coupe 4MATIC AMG Line with Premium Package: $72,400 CAD\n",
      "* GLC 300 Coupe 4MATIC AMG Line with Premium and AMG Package: $78,400 CAD\n",
      "\n",
      "**Destination and Delivery Charges:**\n",
      "\n",
      "* $2,250 CAD (estimated)\n",
      "\n",
      "**Taxes and Fees:**\n",
      "\n",
      "* HST (Harmonized Sales Tax) or GST (Goods and Services Tax) and PST (Provincial Sales Tax) may apply, depending on the province or territory of purchase.\n",
      "\n",
      "**Total Price:**\n",
      "\n",
      "* The total price of the GLC 300 Coupe in Canada can range from around $65,650 CAD to over $80,000 CAD, depending on the trim level, options, and taxes.\n",
      "\n",
      "Keep in mind that prices may vary depending on the dealership, location, and any custom orders or special requests. I recommend checking with a local Mercedes-Benz dealership or the Mercedes-Benz Canada website for the most up-to-date pricing information.\n"
     ]
    }
   ],
   "source": [
    "llm = ChatGroq(\n",
    "    temperature=0,\n",
    "    groq_api_key=groq_api_key,\n",
    "    model_name=\"meta-llama/llama-4-scout-17b-16e-instruct\"  # EXACT match\n",
    ")\n",
    "\n",
    "response = llm.invoke(\"Price of the mercedes glc 300 coupe in canda in cad ...\")\n",
    "print(response.content)"
   ]
  },
  {
   "cell_type": "code",
   "execution_count": 4,
   "id": "f1449ece-b5d7-46dd-a17d-06df22b0d675",
   "metadata": {},
   "outputs": [
    {
     "name": "stderr",
     "output_type": "stream",
     "text": [
      "USER_AGENT environment variable not set, consider setting it to identify your requests.\n"
     ]
    },
    {
     "name": "stdout",
     "output_type": "stream",
     "text": [
      "Magnet Forensics - Senior Software Engineer – Nexus TeamSenior Software Engineer – Nexus TeamCanadaResearch and Development – Engineering /Full-Time /RemoteApply for this jobWho We Are; What We Do; Where We’re GoingMagnet Forensics is a global leader in the development of digital investigative software that acquires, analyzes, and shares evidence from computers, smartphones, tablets, and IoT-related devices. We are continually innovating so our customers can deploy advanced and effective tools to protect their companies, communities, and countries. Serving thousands of customers globally, our solutions are playing a crucial role in modernizing digital investigations, helping investigators fight crime, protect assets, and guard national security. With employees based around the world, Magnet Forensics has been expanding our global presence. As a part of Magnet Forensics, you can expect to make a difference in the world, no matter what role you play. You’ll be supported through learning and development, not to mention an incredible team with unbelievable talent and integrity.  If you think you would be the right person to join our team working towards this goal, we would love to hear from you! Your Team:The Magnet Nexus Team is on a mission to help organizations collect forensic data quickly, securely, and at scale. Nexus is used by private companies to investigate critical issues like IP theft, workplace harassment, and cybersecurity incidents.  We are looking for a Senior Software Engineer to help us grow and evolve this powerful product.   In this role, you’ll work closely with engineers and product management to build features that solve real-world problems. You’ll have the opportunity to shape the backend systems that power our critical investigations - balancing performance, reliability, and speed to deliver meaningful value to our users. Why this join this team in particular?We are a brand-new product and have a juicy list of product ideas to build out our capabilities - your ideas will shape the direction of a product that’s making a real difference. On the Nexus Team, your work directly supports investigations that protect people and uncover the truth. You’ll collaborate with equally passionate teammates, influence decisions, and see the impact of your contributions in the real world. NOTE: Candidate must reside in Canada.What you are capable of:Design and build systems that are secure, reliable and maintainable.Lead technical design and architecture discussions, evaluating different approaches and determining the most effective solution.Break down complex problems into smaller problems to deliver value to our users incrementally.Collaborate with product managers and designers to understand customer needs and translate them into technical solutions.Own the development and maintenance of features, making trade-offs that balance quality, speed and scope while keeping long-term maintainability in mind.Foster a culture of continuous improvement by always being curious, encouraging experimentation, and reflecting on how we work.Mentor teammates, reviewing their code, offering feedback, and knowledge sharing to help their growth and development.What you bring:5+ years of relevant professional experience in software development.Strong experience with object-oriented programming (we use C# and ASP.NET Core).Hands-on experience with cloud platforms (we use AWS).3+ years working on scaling SaaS products.Proficiency working with containers (e.g., Docker).A proven track record of owning feature delivery from start to finish.Strong collaboration skills with your peers and stakeholders.Excellent communications skills – you can work effectively with technical and non-technical audiences.Travel: 5-10%.Nice To Haves: Experience with Powershell, Linux and/or Windows, Elasticsearch, OpenSearch, DynamoDB, OpenSearch.Exposure to front end technologies and frameworks like React, or Typescript.Working in a microservice architecture.Event Driven Architecture.Troubleshooting and debugging production escalations in a cloud environment.Compensation & Benefits:The Compensation Range is for the primary location for which the job is posted. Please note that the actual compensation may vary depending on location and job-related factors such as qualifications, experience, knowledge and skills. If you are applying for this role outside of the primary location and you are selected for an interview, the Talent Acquisition Partner can share more information with you. If the compensation structure for the role includes an incentive component (ie. most Sales roles) the range below represents total target compensation (TTC) (base salary + variable).Compensation Range:MIN: $111,300 - MID: $159,000 - MAX: $190,800 CADMagnet Forensics is proud to offer Benefits such as:Generous Time Off PoliciesCompetitive CompensationVolunteer OpportunitiesReward and Recognition ProgramsEmployee Committees & Resource GroupsHealthcare and Retirement BenefitsThe Most Important ThingWe’re looking for candidates that can provide examples of how they have demonstrated Magnet CODE in their previous experiences:CARE – We care about each other and our mission to make a difference in the world.OWN – We are accountable for our results – while never forgetting to act with integrity, empathy, and respect.DEDICATE – We put our heart and soul into meeting the needs of our customers and helping them serve the people they protect.EVOLVE – We are constantly innovating and exploring new ways to work together to make an impact with our work.Here at Magnet Forensics, we are committed to continuous learning and are focused on building a diverse and inclusive workforce. This commitment will be reflected in our hiring processes and embedded in our values and how we treat one another. If you’re interested in this role, but do not meet all of the qualifications listed above, we encourage you to apply anyways.  Magnet Forensics is an Equal Opportunity Employer and considers applicants for employment without regard to race, colour, religion, sex, orientation, national origin, age, disability, genetics or any other basis forbidden under federal, provincial, or local law.  We are committed to providing an inclusive, accessible recruitment process and work environment. Accommodation is available to all applicants upon request throughout the hiring process. Please contact aoda@magnetforensics.com should you require any accommodations.All offers of employment at Magnet are contingent upon satisfactory completion of a background check. All background checks will be conducted in accordance with all applicable laws. Magnet will consider each position’s job duties, among other factors, in determining what constitutes satisfactory completion of the background check. Refusal to consent to a background check may be grounds for revoking an offer of employment.US Applicants: Magnet Forensics participates in E-Verify and will provide the federal government with your Form I-9 information to confirm that you are authorized to work in the U.S.Apply for this jobMagnet Forensics Home PageJobs powered by \n"
     ]
    }
   ],
   "source": [
    "import os\n",
    "from langchain_community.document_loaders import WebBaseLoader\n",
    "\n",
    "# set a real User-Agent so the site recognizes the request\n",
    "os.environ[\"USER_AGENT\"] = (\n",
    "    \"Mozilla/5.0 (Windows NT 10.0; Win64; x64) AppleWebKit/537.36 \"\n",
    "    \"(KHTML, like Gecko) Chrome/120.0.0.0 Safari/537.36\"\n",
    ")\n",
    "\n",
    "# Loads the Magnet Forensics careers page\n",
    "loader = WebBaseLoader(\"https://jobs.lever.co/magnetforensics/6dcb96d2-e33d-4f82-8afa-3f92b9a7e235\")\n",
    "page_data = loader.load().pop().page_content\n",
    "\n",
    "# Print the extracted text\n",
    "print(page_data)"
   ]
  },
  {
   "cell_type": "code",
   "execution_count": 5,
   "id": "89deb431-6f45-49de-b050-45bbd55c0a01",
   "metadata": {},
   "outputs": [
    {
     "data": {
      "text/plain": [
       "str"
      ]
     },
     "execution_count": 5,
     "metadata": {},
     "output_type": "execute_result"
    }
   ],
   "source": [
    "from langchain_core.prompts import PromptTemplate\n",
    "\n",
    "prompt_extract = PromptTemplate.from_template(\n",
    "        \"\"\"\n",
    "        ### SCRAPED TEXT FROM WEBSITE:\n",
    "        {page_data}\n",
    "        ### INSTRUCTION:\n",
    "        The scraped text is from the career's page of a website.\n",
    "        Your job is to extract the job postings and return them in JSON format containing the \n",
    "        following keys: `role`, `experience`, `skills` and `description`.\n",
    "        Only return the valid JSON.\n",
    "        ### VALID JSON (NO PREAMBLE):    \n",
    "        \"\"\"\n",
    ")\n",
    "# prompt_extract | llm  this is piping \n",
    "chain_extract = prompt_extract | llm \n",
    "res = chain_extract.invoke(input={'page_data':page_data})\n",
    "type(res.content)"
   ]
  },
  {
   "cell_type": "code",
   "execution_count": 6,
   "id": "50e91a0e-d67d-4fc2-8e3e-151f70862f66",
   "metadata": {},
   "outputs": [
    {
     "name": "stdout",
     "output_type": "stream",
     "text": [
      "```json\n",
      "{\n",
      "  \"role\": \"Senior Software Engineer – Nexus Team\",\n",
      "  \"experience\": \"5+ years of relevant professional experience in software development\",\n",
      "  \"skills\": [\n",
      "    \"object-oriented programming (C# and ASP.NET Core)\",\n",
      "    \"cloud platforms (AWS)\",\n",
      "    \"containers (Docker)\",\n",
      "    \"scaling SaaS products\",\n",
      "    \"strong collaboration skills\",\n",
      "    \"excellent communications skills\"\n",
      "  ],\n",
      "  \"description\": \"Design and build systems that are secure, reliable and maintainable. Lead technical design and architecture discussions, evaluating different approaches and determining the most effective solution. Break down complex problems into smaller problems to deliver value to our users incrementally. Collaborate with product managers and designers to understand customer needs and translate them into technical solutions. Own the development and maintenance of features, making trade-offs that balance quality, speed and scope while keeping long-term maintainability in mind. Foster a culture of continuous improvement by always being curious, encouraging experimentation, and reflecting on how we work. Mentor teammates, reviewing their code, offering feedback, and knowledge sharing to help their growth and development.\"\n",
      "}\n",
      "```\n"
     ]
    }
   ],
   "source": [
    "print(res.content)"
   ]
  },
  {
   "cell_type": "code",
   "execution_count": 7,
   "id": "885fe6d2-6636-4e29-9875-4afb625dfa83",
   "metadata": {},
   "outputs": [
    {
     "data": {
      "text/plain": [
       "{'role': 'Senior Software Engineer – Nexus Team',\n",
       " 'experience': '5+ years of relevant professional experience in software development',\n",
       " 'skills': ['object-oriented programming (C# and ASP.NET Core)',\n",
       "  'cloud platforms (AWS)',\n",
       "  'containers (Docker)',\n",
       "  'scaling SaaS products',\n",
       "  'strong collaboration skills',\n",
       "  'excellent communications skills'],\n",
       " 'description': 'Design and build systems that are secure, reliable and maintainable. Lead technical design and architecture discussions, evaluating different approaches and determining the most effective solution. Break down complex problems into smaller problems to deliver value to our users incrementally. Collaborate with product managers and designers to understand customer needs and translate them into technical solutions. Own the development and maintenance of features, making trade-offs that balance quality, speed and scope while keeping long-term maintainability in mind. Foster a culture of continuous improvement by always being curious, encouraging experimentation, and reflecting on how we work. Mentor teammates, reviewing their code, offering feedback, and knowledge sharing to help their growth and development.'}"
      ]
     },
     "execution_count": 7,
     "metadata": {},
     "output_type": "execute_result"
    }
   ],
   "source": [
    "# now we will convert it into a json which will make it a dictionary object\n",
    "from langchain_core.output_parsers import JsonOutputParser\n",
    "\n",
    "json_parser = JsonOutputParser()\n",
    "json_res = json_parser.parse(res.content)\n",
    "json_res"
   ]
  },
  {
   "cell_type": "code",
   "execution_count": 8,
   "id": "7253c962-bbf3-498f-9d24-0ac18b7af0b8",
   "metadata": {},
   "outputs": [
    {
     "data": {
      "text/plain": [
       "dict"
      ]
     },
     "execution_count": 8,
     "metadata": {},
     "output_type": "execute_result"
    }
   ],
   "source": [
    "type(json_res)"
   ]
  },
  {
   "cell_type": "code",
   "execution_count": 9,
   "id": "e301d118-6229-4826-9e9c-fb0288a6cdb3",
   "metadata": {},
   "outputs": [
    {
     "data": {
      "text/html": [
       "<div>\n",
       "<style scoped>\n",
       "    .dataframe tbody tr th:only-of-type {\n",
       "        vertical-align: middle;\n",
       "    }\n",
       "\n",
       "    .dataframe tbody tr th {\n",
       "        vertical-align: top;\n",
       "    }\n",
       "\n",
       "    .dataframe thead th {\n",
       "        text-align: right;\n",
       "    }\n",
       "</style>\n",
       "<table border=\"1\" class=\"dataframe\">\n",
       "  <thead>\n",
       "    <tr style=\"text-align: right;\">\n",
       "      <th></th>\n",
       "      <th>Techstack</th>\n",
       "      <th>Links</th>\n",
       "    </tr>\n",
       "  </thead>\n",
       "  <tbody>\n",
       "    <tr>\n",
       "      <th>0</th>\n",
       "      <td>LangChain, Google Gemini, Streamlit, FAISS, In...</td>\n",
       "      <td>https://github.com/Kunal7575/KunalAssistant-En...</td>\n",
       "    </tr>\n",
       "    <tr>\n",
       "      <th>1</th>\n",
       "      <td>LangChain, Google Gemini, Streamlit</td>\n",
       "      <td>https://www.linkedin.com/feed/update/urn:li:ac...</td>\n",
       "    </tr>\n",
       "    <tr>\n",
       "      <th>2</th>\n",
       "      <td>TensorFlow, TensorFlow Lite, Python, Drone Tel...</td>\n",
       "      <td>https://stalwart-quokka-6ee6d2.netlify.app/</td>\n",
       "    </tr>\n",
       "    <tr>\n",
       "      <th>3</th>\n",
       "      <td>React.js, Material-UI, YouTube API, Axios</td>\n",
       "      <td>https://64e4dd92d817ab20e7ff524a--superb-strud...</td>\n",
       "    </tr>\n",
       "    <tr>\n",
       "      <th>4</th>\n",
       "      <td>Microsoft Excel, Data Analysis, Dashboard Design</td>\n",
       "      <td>https://1drv.ms/x/c/10bf769274e6b1e0/EZSgD3YYC...</td>\n",
       "    </tr>\n",
       "    <tr>\n",
       "      <th>5</th>\n",
       "      <td>VHDL, Verilog, FPGA Design, Real-Time Embedded...</td>\n",
       "      <td>https://github.com/Kunal7575/Intruder-Detector</td>\n",
       "    </tr>\n",
       "    <tr>\n",
       "      <th>6</th>\n",
       "      <td>Flask, Scikit-learn, GridSearchCV, K-Fold Vali...</td>\n",
       "      <td>https://legendary-melomakarona-3f8ca2.netlify....</td>\n",
       "    </tr>\n",
       "  </tbody>\n",
       "</table>\n",
       "</div>"
      ],
      "text/plain": [
       "                                           Techstack  \\\n",
       "0  LangChain, Google Gemini, Streamlit, FAISS, In...   \n",
       "1                LangChain, Google Gemini, Streamlit   \n",
       "2  TensorFlow, TensorFlow Lite, Python, Drone Tel...   \n",
       "3          React.js, Material-UI, YouTube API, Axios   \n",
       "4   Microsoft Excel, Data Analysis, Dashboard Design   \n",
       "5  VHDL, Verilog, FPGA Design, Real-Time Embedded...   \n",
       "6  Flask, Scikit-learn, GridSearchCV, K-Fold Vali...   \n",
       "\n",
       "                                               Links  \n",
       "0  https://github.com/Kunal7575/KunalAssistant-En...  \n",
       "1  https://www.linkedin.com/feed/update/urn:li:ac...  \n",
       "2        https://stalwart-quokka-6ee6d2.netlify.app/  \n",
       "3  https://64e4dd92d817ab20e7ff524a--superb-strud...  \n",
       "4  https://1drv.ms/x/c/10bf769274e6b1e0/EZSgD3YYC...  \n",
       "5     https://github.com/Kunal7575/Intruder-Detector  \n",
       "6  https://legendary-melomakarona-3f8ca2.netlify....  "
      ]
     },
     "execution_count": 9,
     "metadata": {},
     "output_type": "execute_result"
    }
   ],
   "source": [
    "# now we will prepare chroma db\n",
    "import pandas as pd\n",
    "\n",
    "df = pd.read_csv(\"my_portfolio.csv\")\n",
    "df"
   ]
  },
  {
   "cell_type": "code",
   "execution_count": 12,
   "id": "871bd400-483a-452e-b6ae-c063c26138fe",
   "metadata": {},
   "outputs": [],
   "source": [
    "# now we will start putting these one by one in chroma db \n",
    "# PersistentClient-> will create on a disk \n",
    "# client will create on a memory like chroma db on a memory\n",
    "import uuid\n",
    "import chromadb\n",
    "\n",
    "client = chromadb.PersistentClient('vectorstore')\n",
    "collection = client.get_or_create_collection(name=\"portfolio\")\n",
    "\n",
    "if not collection.count():\n",
    "    for _, row in df.iterrows():\n",
    "        collection.add(documents=row[\"Techstack\"],\n",
    "                       metadatas={\"links\": row[\"Links\"]},\n",
    "                       ids=[str(uuid.uuid4())])"
   ]
  },
  {
   "cell_type": "code",
   "execution_count": 17,
   "id": "1deefe4c-a458-4f8e-aa46-326843813f31",
   "metadata": {},
   "outputs": [
    {
     "data": {
      "text/plain": [
       "[[{'links': 'https://www.linkedin.com/feed/update/urn:li:activity:7355596818073698305/'},\n",
       "  {'links': 'https://github.com/Kunal7575/KunalAssistant-End-to-End-GenAI-Project/'},\n",
       "  {'links': 'https://legendary-melomakarona-3f8ca2.netlify.app/'},\n",
       "  {'links': 'https://stalwart-quokka-6ee6d2.netlify.app/'}]]"
      ]
     },
     "execution_count": 17,
     "metadata": {},
     "output_type": "execute_result"
    }
   ],
   "source": [
    "links = collection.query(query_texts=[\"Python, LangChain\"], n_results=4).get('metadatas', [])\n",
    "links"
   ]
  },
  {
   "cell_type": "code",
   "execution_count": 20,
   "id": "0463749a-7ef6-46cc-83c0-10c1e87fca18",
   "metadata": {},
   "outputs": [
    {
     "data": {
      "text/plain": [
       "['object-oriented programming (C# and ASP.NET Core)',\n",
       " 'cloud platforms (AWS)',\n",
       " 'containers (Docker)',\n",
       " 'scaling SaaS products',\n",
       " 'strong collaboration skills',\n",
       " 'excellent communications skills']"
      ]
     },
     "execution_count": 20,
     "metadata": {},
     "output_type": "execute_result"
    }
   ],
   "source": [
    "job = json_res\n",
    "job['skills']"
   ]
  },
  {
   "cell_type": "code",
   "execution_count": 21,
   "id": "22365719-dc7e-4148-b94a-10bc95c770a3",
   "metadata": {},
   "outputs": [
    {
     "name": "stdout",
     "output_type": "stream",
     "text": [
      "Subject: Application for Senior Software Engineer – Nexus Team\n",
      "\n",
      "Dear Hiring Manager,\n",
      "\n",
      "I'm excited to apply for the Senior Software Engineer – Nexus Team position, and I'd like to highlight how my skills and experience align with your requirements. With a strong foundation in software development, cloud platforms, and a passion for innovative technologies, I'm confident I can make a valuable contribution to your team.\n",
      "\n",
      "As a Computer Engineering student specializing in Machine Learning, I've developed a solid background in object-oriented programming, cloud platforms, and data analysis. My experience with AI, automation, IT infrastructure, and data analytics has equipped me with the skills to design and build secure, reliable, and maintainable systems. I'm particularly drawn to this role because of the emphasis on cloud platforms (AWS), containers (Docker), and scaling SaaS products, which aligns with my experience in infrastructure automation and scripting.\n",
      "\n",
      "In my current role as Registrarial Systems & Technologies Co-op at the University of Guelph, I've gained hands-on experience with OS-level troubleshooting, SQL and Excel-based data operations, and backend system maintenance. I've also honed my skills in collaboration and communication, supporting both on-site and remote users across six departments.\n",
      "\n",
      "My portfolio showcases a range of projects that demonstrate my capabilities in AI, machine learning, automation, data analysis, and full-stack development. Some notable examples include:\n",
      "\n",
      "* An AI personal assistant trained on my resume, which showcases my expertise in natural language processing and machine learning (featured on my portfolio website: https://66d46dbc12f6c2007a3b1dbc--rad-longma-0f1c7f.netlify.app/)\n",
      "* An AI-powered crop disease detection drone, which highlights my skills in computer vision and real-time embedded systems\n",
      "* A housing price prediction web app, which demonstrates my expertise in data analysis and full-stack development\n",
      "\n",
      "Additionally, I'd like to bring to your attention the following projects:\n",
      "\n",
      "* KunalAssistant: An end-to-end GenAI project that showcases my expertise in AI and machine learning (https://github.com/Kunal7575/KunalAssistant-End-to-End-GenAI-Project/)\n",
      "* A data analysis and visualization project that highlights my skills in data workflows and SQL (https://legendary-melomakarona-3f8ca2.netlify.app/)\n",
      "* A real-time embedded systems project that demonstrates my expertise in automation and data analysis (https://stalwart-quokka-6ee6d2.netlify.app/)\n",
      "\n",
      "I'm excited about the opportunity to bring my skills and experience to the Nexus Team and contribute to the design and development of secure, reliable, and maintainable systems. Thank you for considering my application. I look forward to discussing my qualifications further.\n",
      "\n",
      "Best regards,\n",
      "Kunal Sharma\n"
     ]
    }
   ],
   "source": [
    "prompt_email = PromptTemplate.from_template(\n",
    "        \"\"\"\n",
    "        ### JOB DESCRIPTION:\n",
    "        {job_description}\n",
    "        \n",
    "        ### INSTRUCTION:\n",
    "        You are Kunal Sharma, a Computer Engineering student specializing in Machine Learning with hands-on experience in AI, automation, IT infrastructure, and data analytics.  \n",
    "        You are currently working as a Registrarial Systems & Technologies Co-op at the University of Guelph, supporting both on-site and remote users across six departments including Admissions, Enrolment Services, and Scheduling. Your role involves maintaining over 60 devices, patching systems, assisting with database-backed applications, supporting PHP/Drupal-based web systems, and documenting internal technical workflows. This position builds on your existing expertise in infrastructure automation, scripting, and data workflows, while also expanding your experience in OS-level troubleshooting, SQL and Excel-based data operations, and backend system maintenance.  \n",
    "        \n",
    "        Previously, you worked as a Deployment Analyst at The Co-operators, a Data Analyst at ThriftyAI, and have built advanced AI-powered projects such as an AI personal assistant trained on your resume, an AI-powered crop disease detection drone, and a housing price prediction web app. Your portfolio includes solutions in AI, machine learning, automation, data analysis, full-stack development, and real-time embedded systems.  \n",
    "        \n",
    "        When reaching out to potential clients, you should reference your **portfolio website** (https://66d46dbc12f6c2007a3b1dbc--rad-longma-0f1c7f.netlify.app/) as it showcases all your key projects and technical capabilities in one place.  \n",
    "        \n",
    "        Your goal is to write a tailored cold email to the client regarding the job mentioned above, showcasing your capabilities and past projects that align with their needs.  \n",
    "        Also add the most relevant ones from the following links to demonstrate your portfolio: {link_list}  \n",
    "        Do not provide a preamble.\n",
    "        \n",
    "        ### EMAIL (NO PREAMBLE):\n",
    "        \n",
    "        \"\"\"\n",
    "        )\n",
    "\n",
    "chain_email = prompt_email | llm\n",
    "res = chain_email.invoke({\"job_description\": str(job), \"link_list\": links})\n",
    "print(res.content)"
   ]
  },
  {
   "cell_type": "code",
   "execution_count": null,
   "id": "e978bbf4-7424-42d4-a5dc-59c7bf7a9aa2",
   "metadata": {},
   "outputs": [],
   "source": []
  }
 ],
 "metadata": {
  "kernelspec": {
   "display_name": "Python 3 (ipykernel)",
   "language": "python",
   "name": "python3"
  },
  "language_info": {
   "codemirror_mode": {
    "name": "ipython",
    "version": 3
   },
   "file_extension": ".py",
   "mimetype": "text/x-python",
   "name": "python",
   "nbconvert_exporter": "python",
   "pygments_lexer": "ipython3",
   "version": "3.13.5"
  }
 },
 "nbformat": 4,
 "nbformat_minor": 5
}
